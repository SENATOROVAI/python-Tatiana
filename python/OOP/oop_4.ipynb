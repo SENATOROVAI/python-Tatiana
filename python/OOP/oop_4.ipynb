{
 "cells": [
  {
   "cell_type": "code",
   "execution_count": 23,
   "metadata": {},
   "outputs": [
    {
     "data": {
      "text/plain": [
       "'Module on class functions and methods of instances.Binding.'"
      ]
     },
     "execution_count": 23,
     "metadata": {},
     "output_type": "execute_result"
    }
   ],
   "source": [
    "\"Module on class functions, methods.Binding.__init__() method.\""
   ]
  },
  {
   "cell_type": "code",
   "execution_count": 24,
   "metadata": {},
   "outputs": [],
   "source": [
    "class Person:\n",
    "    # function prints hello\n",
    "    def hello():\n",
    "        print(\"hello\")"
   ]
  },
  {
   "cell_type": "code",
   "execution_count": 25,
   "metadata": {},
   "outputs": [
    {
     "data": {
      "text/plain": [
       "<function __main__.Person.hello()>"
      ]
     },
     "execution_count": 25,
     "metadata": {},
     "output_type": "execute_result"
    }
   ],
   "source": [
    "# Look at the function as an object of the class\n",
    "Person.hello"
   ]
  },
  {
   "cell_type": "markdown",
   "metadata": {},
   "source": [
    "create an object but do not call the function \n",
    "we'll see the bound method Person.hello. To see the id of the class in 16hex format type hex(id(object)) "
   ]
  },
  {
   "cell_type": "code",
   "execution_count": 26,
   "metadata": {},
   "outputs": [
    {
     "data": {
      "text/plain": [
       "<bound method Person.hello of <__main__.Person object at 0x7feca07c9250>>"
      ]
     },
     "execution_count": 26,
     "metadata": {},
     "output_type": "execute_result"
    }
   ],
   "source": [
    "object_ = Person()\n",
    "object_.hello\n",
    "# pointing at the instance of class Person:\n",
    "# <__main__.Person object_ at 0x7feca07c5510"
   ]
  },
  {
   "cell_type": "markdown",
   "metadata": {},
   "source": [
    "'<bound method Person.hello of <__main__.Person object at 0x7feca07c5510>>' -  read like this. Attribute hello in instance object which belings to class Person is a bound method with instance hello of class Person"
   ]
  },
  {
   "cell_type": "code",
   "execution_count": 27,
   "metadata": {},
   "outputs": [
    {
     "name": "stdout",
     "output_type": "stream",
     "text": [
      "140654281527888\n",
      "0x7feca07c9250\n"
     ]
    }
   ],
   "source": [
    "# 5\n",
    "print(id(object_))  # id ofoject of class Person\n",
    "print(hex(id(object_)))  # id in hex format"
   ]
  },
  {
   "cell_type": "code",
   "execution_count": 28,
   "metadata": {},
   "outputs": [
    {
     "name": "stdout",
     "output_type": "stream",
     "text": [
      "hello\n",
      "None\n"
     ]
    }
   ],
   "source": [
    "print(Person.hello())"
   ]
  },
  {
   "cell_type": "code",
   "execution_count": 29,
   "metadata": {},
   "outputs": [
    {
     "name": "stdout",
     "output_type": "stream",
     "text": [
      "<class 'function'>\n"
     ]
    }
   ],
   "source": [
    "print(type(Person.hello))"
   ]
  },
  {
   "cell_type": "code",
   "execution_count": 30,
   "metadata": {},
   "outputs": [
    {
     "ename": "TypeError",
     "evalue": "Person.hello() takes 0 positional arguments but 1 was given",
     "output_type": "error",
     "traceback": [
      "\u001b[0;31m---------------------------------------------------------------------------\u001b[0m",
      "\u001b[0;31mTypeError\u001b[0m                                 Traceback (most recent call last)",
      "Cell \u001b[0;32mIn[30], line 1\u001b[0m\n\u001b[0;32m----> 1\u001b[0m \u001b[39mobject\u001b[39;49m\u001b[39m.\u001b[39;49mhello()\n",
      "\u001b[0;31mTypeError\u001b[0m: Person.hello() takes 0 positional arguments but 1 was given"
     ]
    }
   ],
   "source": [
    "object_.hello()"
   ]
  },
  {
   "cell_type": "code",
   "execution_count": null,
   "metadata": {},
   "outputs": [
    {
     "name": "stdout",
     "output_type": "stream",
     "text": [
      "<class 'method'>\n"
     ]
    }
   ],
   "source": [
    "print(type(object_.hello))"
   ]
  },
  {
   "cell_type": "markdown",
   "metadata": {},
   "source": [
    "As we see above functions and methods are different classes.The functions of the class at the moment of instance creation are being transformed in another object - method and are bound with that instance.It is proved by different ids in this objects. Their attributes also differ."
   ]
  },
  {
   "cell_type": "code",
   "execution_count": null,
   "metadata": {},
   "outputs": [
    {
     "name": "stdout",
     "output_type": "stream",
     "text": [
      "140654281332896\n"
     ]
    }
   ],
   "source": [
    "# 10\n",
    "# id of the function object_\n",
    "print(id(Person.hello))"
   ]
  },
  {
   "cell_type": "code",
   "execution_count": null,
   "metadata": {},
   "outputs": [
    {
     "name": "stdout",
     "output_type": "stream",
     "text": [
      "140654274532672\n"
     ]
    }
   ],
   "source": [
    "# 11\n",
    "# id of the instance object\n",
    "print(id(object_.hello))"
   ]
  },
  {
   "cell_type": "code",
   "execution_count": null,
   "metadata": {},
   "outputs": [
    {
     "data": {
      "text/plain": [
       "False"
      ]
     },
     "execution_count": 21,
     "metadata": {},
     "output_type": "execute_result"
    }
   ],
   "source": [
    "# id of the function object\n",
    "# id of the instance object\n",
    "\n",
    "dir(Person.hello) == dir(object_.hello)"
   ]
  },
  {
   "cell_type": "markdown",
   "metadata": {},
   "source": [
    "У экземпляра класса появился self. При вызове у экземпляра класса какого-либо аргумента, первым аргументом он получает тот экземпляр класса с которым он и был связан. В основе лежит поиск определения имен. Сначалаы айон ищет определение имени в локальном пространстве имен экземпляра класса. Когда пайтон не находит определние имени он идет в родиительский класс. После того как пайтон находит функцию в родительском классе он ее вызывает. Пространсво имен класса и экземпляров класса изолированы друг от друга. Соответственно нужно передать в функцию класса данные об экземпляре класса.Для этого пайтон и связывает с методом экземпляра сам экземпляр.Чтобв класс мог обратиться к своему экземпляру и получить лоступ к пространству имен, те к его унико=льному словарю dict. Чтобы вызвать метод Person.hello(object). Итак методы  - это специальные классы обертки, котрые объедтиняют в  себе функции класса и конкретный экземпляр этого класса. Ниже видно, что __self__ объекта класса object == шеснадцатиричнму формату его id. Те свойство self сохраняет ссылку на экземпляр класса.В свою очредь в свойстве __func__ имеется ссылка на функцию hello. при вызове метода из экземпляра туда будет передаваться сам экземпляр класса."
   ]
  },
  {
   "cell_type": "code",
   "execution_count": 31,
   "metadata": {},
   "outputs": [
    {
     "data": {
      "text/plain": [
       "<__main__.Person at 0x7feca07c9250>"
      ]
     },
     "execution_count": 31,
     "metadata": {},
     "output_type": "execute_result"
    }
   ],
   "source": [
    "object_.hello.__self__"
   ]
  },
  {
   "cell_type": "code",
   "execution_count": 32,
   "metadata": {},
   "outputs": [
    {
     "data": {
      "text/plain": [
       "'0x7feca07c9250'"
      ]
     },
     "execution_count": 32,
     "metadata": {},
     "output_type": "execute_result"
    }
   ],
   "source": [
    "hex(id(object_))"
   ]
  },
  {
   "cell_type": "code",
   "execution_count": 33,
   "metadata": {},
   "outputs": [
    {
     "data": {
      "text/plain": [
       "<function __main__.Person.hello()>"
      ]
     },
     "execution_count": 33,
     "metadata": {},
     "output_type": "execute_result"
    }
   ],
   "source": [
    "object_.hello.__func__"
   ]
  },
  {
   "cell_type": "code",
   "execution_count": 38,
   "metadata": {},
   "outputs": [],
   "source": [
    "# class Person:\n",
    "#     def hello(instance):\n",
    "#         print(instance)"
   ]
  },
  {
   "cell_type": "code",
   "execution_count": 39,
   "metadata": {},
   "outputs": [
    {
     "name": "stdout",
     "output_type": "stream",
     "text": [
      "<__main__.Person object at 0x7feca0138350>\n"
     ]
    }
   ],
   "source": [
    "inst = Person()\n",
    "inst.hello()"
   ]
  },
  {
   "cell_type": "code",
   "execution_count": 40,
   "metadata": {},
   "outputs": [
    {
     "data": {
      "text/plain": [
       "'0x7feca0138350'"
      ]
     },
     "execution_count": 40,
     "metadata": {},
     "output_type": "execute_result"
    }
   ],
   "source": [
    "hex(id(inst))"
   ]
  },
  {
   "cell_type": "markdown",
   "metadata": {},
   "source": [
    "По соглашению первый параметр экземпляра класса оназывается self, тк это ссылка на самого себя  на экземпляр. Те происходит неявная передача смого экземпляра клачча в метод  класса."
   ]
  },
  {
   "cell_type": "code",
   "execution_count": 42,
   "metadata": {},
   "outputs": [],
   "source": [
    "class Person:\n",
    "    def hello(self):\n",
    "        print(self)"
   ]
  },
  {
   "cell_type": "code",
   "execution_count": 43,
   "metadata": {},
   "outputs": [
    {
     "name": "stdout",
     "output_type": "stream",
     "text": [
      "<__main__.Person object at 0x7feca9206290>\n"
     ]
    }
   ],
   "source": [
    "inst = Person()\n",
    "inst.hello()"
   ]
  },
  {
   "cell_type": "markdown",
   "metadata": {},
   "source": [
    "# Инициализация экземпляра класса, __init__ метод"
   ]
  },
  {
   "cell_type": "code",
   "execution_count": 17,
   "metadata": {},
   "outputs": [],
   "source": [
    "class Person:  # созадние класса\n",
    "\n",
    "    def create(self):  # ссылка self - связывает метод с экземпляроам\n",
    "        self.name = \"Ivan\"  #\n",
    "\n",
    "    def display(self):\n",
    "        print(self.name)  # вывод имени экземпляра"
   ]
  },
  {
   "cell_type": "code",
   "execution_count": 18,
   "metadata": {},
   "outputs": [
    {
     "ename": "TypeError",
     "evalue": "Person.__init__() missing 1 required positional argument: 'name'",
     "output_type": "error",
     "traceback": [
      "\u001b[0;31m---------------------------------------------------------------------------\u001b[0m",
      "\u001b[0;31mTypeError\u001b[0m                                 Traceback (most recent call last)",
      "Cell \u001b[0;32mIn[18], line 1\u001b[0m\n\u001b[0;32m----> 1\u001b[0m instance \u001b[39m=\u001b[39m Person()  \u001b[39m# создание эксемпляра класса Person\u001b[39;00m\n\u001b[1;32m      2\u001b[0m \u001b[39m# instance.name = \"Ivan\"  # эквивалентны = self.name = 'Ivan'\u001b[39;00m\n",
      "\u001b[0;31mTypeError\u001b[0m: Person.__init__() missing 1 required positional argument: 'name'"
     ]
    }
   ],
   "source": [
    "instance = Person()  # создание эксемпляра класса Person\n",
    "# instance.name = \"Ivan\"  # эквивалентны = self.name = 'Ivan'"
   ]
  },
  {
   "cell_type": "code",
   "execution_count": 13,
   "metadata": {},
   "outputs": [
    {
     "ename": "AttributeError",
     "evalue": "'Person' object has no attribute 'name'",
     "output_type": "error",
     "traceback": [
      "\u001b[0;31m---------------------------------------------------------------------------\u001b[0m",
      "\u001b[0;31mAttributeError\u001b[0m                            Traceback (most recent call last)",
      "Cell \u001b[0;32mIn[13], line 1\u001b[0m\n\u001b[0;32m----> 1\u001b[0m instance\u001b[39m.\u001b[39;49mdisplay()\n",
      "Cell \u001b[0;32mIn[9], line 11\u001b[0m, in \u001b[0;36mPerson.display\u001b[0;34m(self)\u001b[0m\n\u001b[1;32m     10\u001b[0m \u001b[39mdef\u001b[39;00m \u001b[39mdisplay\u001b[39m(\u001b[39mself\u001b[39m):\n\u001b[0;32m---> 11\u001b[0m     \u001b[39mprint\u001b[39m(\u001b[39mself\u001b[39;49m\u001b[39m.\u001b[39;49mname)\n",
      "\u001b[0;31mAttributeError\u001b[0m: 'Person' object has no attribute 'name'"
     ]
    }
   ],
   "source": [
    "instance.display()"
   ]
  },
  {
   "cell_type": "markdown",
   "metadata": {},
   "source": [
    "На этапе создания экземпляра класса его локальный словарь __dict__  - абсолютно пустой.И имя name в родительском классе тоже не определно.Соответсвенно, чтобы создать атрибут экземпляра класса в родительском классе есть след. варианты:\n",
    "* созадть вручную ( name = 'Ivan')\n",
    "* создать функцию и там определить (см def create выше) атрибут. Вызвать def\n",
    "* использовать __init__, который вызывается автоматически при создании класса. То. вместо def create() надо писать def __init__(), чтобы не приходилось делать доп вызов функции."
   ]
  },
  {
   "cell_type": "code",
   "execution_count": 8,
   "metadata": {},
   "outputs": [
    {
     "data": {
      "text/plain": [
       "{'name': 'Ivan'}"
      ]
     },
     "execution_count": 8,
     "metadata": {},
     "output_type": "execute_result"
    }
   ],
   "source": [
    "instance.create()  # обращаемся к созданнгому атрибуту через функцию\n",
    "instance.__dict__"
   ]
  },
  {
   "cell_type": "code",
   "execution_count": 25,
   "metadata": {},
   "outputs": [],
   "source": [
    "class Person2:  # созадние класса\n",
    "\n",
    "    def __init__(self, name):  # ссылка self - связывает метод с экземпляроам\n",
    "        self.name = name  #\n",
    "\n",
    "    def display(self):\n",
    "        print(self.name)  # вывод имени экземпляра"
   ]
  },
  {
   "cell_type": "code",
   "execution_count": 26,
   "metadata": {},
   "outputs": [
    {
     "name": "stdout",
     "output_type": "stream",
     "text": [
      "Tina\n"
     ]
    }
   ],
   "source": [
    "instance2 = Person2(\"Tina\")\n",
    "instance2.display()"
   ]
  },
  {
   "cell_type": "code",
   "execution_count": 27,
   "metadata": {},
   "outputs": [
    {
     "data": {
      "text/plain": [
       "{'name': 'Tina'}"
      ]
     },
     "execution_count": 27,
     "metadata": {},
     "output_type": "execute_result"
    }
   ],
   "source": [
    "instance2.__dict__"
   ]
  },
  {
   "cell_type": "markdown",
   "metadata": {},
   "source": [
    "При создании класса python вызывает метод __new__(), которрый и является конструктором класса.Он создает сам экземпляр. Метод __init__() - инициализирующий метод.Он инициализирует экземпляр класса свойствами и их значениями.Инит метод делает присвоение налету после того, как объект как экземпляр класса был создан. "
   ]
  },
  {
   "cell_type": "markdown",
   "metadata": {},
   "source": []
  }
 ],
 "metadata": {
  "kernelspec": {
   "display_name": "base",
   "language": "python",
   "name": "python3"
  },
  "language_info": {
   "codemirror_mode": {
    "name": "ipython",
    "version": 3
   },
   "file_extension": ".py",
   "mimetype": "text/x-python",
   "name": "python",
   "nbconvert_exporter": "python",
   "pygments_lexer": "ipython3",
   "version": "3.11.4"
  },
  "orig_nbformat": 4
 },
 "nbformat": 4,
 "nbformat_minor": 2
}
