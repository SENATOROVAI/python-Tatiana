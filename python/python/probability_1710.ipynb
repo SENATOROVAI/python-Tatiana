{
 "cells": [
  {
   "cell_type": "code",
   "execution_count": 22,
   "metadata": {
    "id": "sV0gfOzBLMPy"
   },
   "outputs": [
    {
     "data": {
      "text/plain": [
       "'Module 1. Types of events, scipy, numpy.'"
      ]
     },
     "execution_count": 22,
     "metadata": {},
     "output_type": "execute_result"
    }
   ],
   "source": [
    "\"Module 1. Types of events, scipy, numpy.\""
   ]
  },
  {
   "cell_type": "code",
   "execution_count": 27,
   "metadata": {
    "id": "FbTknmQKM6Gg"
   },
   "outputs": [],
   "source": [
    "import numpy as np\n",
    "import scipy.special as sc\n",
    "from scipy import optimize\n",
    "\n",
    "# import pandas as pd\n",
    "# import scipy.integrate\n",
    "# from scipy.optimize import minimize"
   ]
  },
  {
   "cell_type": "markdown",
   "metadata": {
    "id": "XRdGgY0WUdQu"
   },
   "source": [
    "[numpy](https://numpy.org/doc/stable/reference/generated/numpy.log.html)"
   ]
  },
  {
   "cell_type": "markdown",
   "metadata": {
    "id": "rVANN--GLtAs"
   },
   "source": [
    "# Виды событий"
   ]
  },
  {
   "cell_type": "code",
   "execution_count": 24,
   "metadata": {
    "id": "yxt2BcdELMP6"
   },
   "outputs": [],
   "source": [
    "def certain_event() -> int:\n",
    "    \"\"\"\n",
    "    This function returns 1 as 100%.\n",
    "\n",
    "    Returns:\n",
    "        int: 1\n",
    "    \"\"\"\n",
    "    return 1"
   ]
  },
  {
   "cell_type": "code",
   "execution_count": 25,
   "metadata": {
    "id": "dKW0YibcLMP-",
    "outputId": "3fed61fd-a7b8-4a88-a2ab-e460fceb9bd9"
   },
   "outputs": [],
   "source": [
    "# set?"
   ]
  },
  {
   "cell_type": "code",
   "execution_count": 26,
   "metadata": {
    "id": "JCWkDs8aLMQB"
   },
   "outputs": [],
   "source": [
    "def impossible_event() -> int:\n",
    "    \"\"\"\n",
    "    This function returns 0 as impossible event.\n",
    "\n",
    "    Returns:\n",
    "       int: 0\n",
    "    \"\"\"\n",
    "    return 0"
   ]
  },
  {
   "cell_type": "code",
   "execution_count": 27,
   "metadata": {},
   "outputs": [
    {
     "name": "stdout",
     "output_type": "stream",
     "text": [
      "0.05\n"
     ]
    }
   ],
   "source": [
    "def random_event(successful_outcomes: float, total_outcome: float) -> float:\n",
    "    \"\"\"\n",
    "    This function returns 0 as impossible event.\n",
    "\n",
    "    Parameters:\n",
    "\n",
    "    successful_outcomes: float\n",
    "    total_outcome: float\n",
    "\n",
    "    Returns:\n",
    "       float: division of successful_outcomes on total_outcomes\n",
    "    \"\"\"\n",
    "    return successful_outcomes / total_outcome\n",
    "\n",
    "\n",
    "# Вызов функции с правильными аргументами\n",
    "result = random_event(50, 1000)\n",
    "print(result)"
   ]
  },
  {
   "cell_type": "markdown",
   "metadata": {},
   "source": [
    "def __init__(self, iterable: Iterable[_T], /)\n",
    "-> None: ... -  до / -  позиционные аргументы,\n",
    "а после / - ключевые\n",
    "Iterable[_T] -параметр является итерируемым объектом,\n",
    "    и содержит элементы типа _T\n",
    "_T — это обобщённый тип (generic),\n",
    "который представляет собой любой тип данных"
   ]
  },
  {
   "cell_type": "code",
   "execution_count": 11,
   "metadata": {},
   "outputs": [
    {
     "name": "stdout",
     "output_type": "stream",
     "text": [
      "0.3333333333333333 0.3333333333333333\n"
     ]
    }
   ],
   "source": [
    "def incompatible_events() -> None:\n",
    "    \"\"\"\n",
    "    Calculate and print the probabilities of two incompatible events.\n",
    "\n",
    "    The function initializes two events and calculates their probabilities\n",
    "    based on the total number of outcomes.\n",
    "\n",
    "    Args:\n",
    "        None\n",
    "    \"\"\"\n",
    "    event_a = {1, 2}\n",
    "    event_b = {3, 4}\n",
    "    total_outcomes = 6\n",
    "    p_a = len(event_a) / total_outcomes\n",
    "    p_b = len(event_b) / total_outcomes\n",
    "    print(p_a, p_b)\n",
    "\n",
    "\n",
    "incompatible_events()"
   ]
  },
  {
   "cell_type": "code",
   "execution_count": 12,
   "metadata": {
    "id": "UyvsD05kLMQM",
    "outputId": "212df4ad-466a-48b0-fcd7-77e61153f8a9"
   },
   "outputs": [
    {
     "data": {
      "text/plain": [
       "0.83"
      ]
     },
     "execution_count": 12,
     "metadata": {},
     "output_type": "execute_result"
    }
   ],
   "source": [
    "# Противоположные события\n",
    "\n",
    "\n",
    "def complementary_events() -> float:\n",
    "    \"\"\"\n",
    "    Calculate the probability of the complement of an event.\n",
    "\n",
    "    This function calculates the probability of event A and its complement.\n",
    "\n",
    "    Returns:\n",
    "        float: The probability of the complement of event A, rounded to two decimal places.\n",
    "    \"\"\"\n",
    "    total_outcomes = 6\n",
    "    event_a = {6}\n",
    "    p_a = len(event_a) / total_outcomes\n",
    "    p_not_a = 1 - p_a\n",
    "    return round(p_not_a, 2)\n",
    "\n",
    "\n",
    "complementary_events()"
   ]
  },
  {
   "cell_type": "code",
   "execution_count": 13,
   "metadata": {
    "id": "GpoNWQ24LMQP",
    "outputId": "fb92d802-5e03-4d03-9ba8-aff9a6dcecc6"
   },
   "outputs": [
    {
     "data": {
      "text/plain": [
       "1.0"
      ]
     },
     "execution_count": 13,
     "metadata": {},
     "output_type": "execute_result"
    }
   ],
   "source": [
    "# Полная группа событий\n",
    "\n",
    "\n",
    "def complete_group() -> float:\n",
    "    \"\"\"\n",
    "    Calculate the probability of a complete group of events.\n",
    "\n",
    "    This function calculates the probability of all possible outcomes.\n",
    "\n",
    "    Returns:\n",
    "        float: The probability of the complete group.\n",
    "    \"\"\"\n",
    "    event = {1, 2, 3, 4, 5, 6}\n",
    "    total_outcomes = 6\n",
    "    p_a = len(event) / total_outcomes\n",
    "    return p_a\n",
    "\n",
    "\n",
    "complete_group()"
   ]
  },
  {
   "cell_type": "markdown",
   "metadata": {
    "id": "NRx6EEolMULT"
   },
   "source": [
    "# Знакомство с библиотеками scipy, numpy"
   ]
  },
  {
   "cell_type": "code",
   "execution_count": 14,
   "metadata": {
    "colab": {
     "base_uri": "https://localhost:8080/"
    },
    "id": "XugrZ5FkLMQh",
    "outputId": "404cffca-fc9b-494e-e0c6-752efd2427c8"
   },
   "outputs": [
    {
     "name": "stdout",
     "output_type": "stream",
     "text": [
      "3.141592653589793 2.718281828459045 inf -inf inf nan nan nan\n"
     ]
    }
   ],
   "source": [
    "# Pi, e, infinity, -inf, +inf, none, none, none\n",
    "print(np.pi, np.e, np.inf, np.NINF, np.PINF, np.NAN, np.nan, np.NaN)"
   ]
  },
  {
   "cell_type": "code",
   "execution_count": 16,
   "metadata": {
    "id": "tJwqsERlLMQj",
    "outputId": "b11aae41-8054-4495-de1e-a5fb956bde9c"
   },
   "outputs": [
    {
     "name": "stdout",
     "output_type": "stream",
     "text": [
      "2.0 2.080083823051904 16\n"
     ]
    }
   ],
   "source": [
    "# корень , корень кубический, квадрат\n",
    "print(np.sqrt(4), np.cbrt(9), np.square(4))"
   ]
  },
  {
   "cell_type": "code",
   "execution_count": 17,
   "metadata": {
    "colab": {
     "base_uri": "https://localhost:8080/"
    },
    "id": "pkY712b6LMQl",
    "outputId": "cd6fcd9f-4a0d-43f8-da0c-2793bc146639"
   },
   "outputs": [
    {
     "name": "stdout",
     "output_type": "stream",
     "text": [
      "2 1\n",
      "1.0680000000000005\n"
     ]
    }
   ],
   "source": [
    "# x - complex number\n",
    "print(np.abs(2 - 4), np.absolute(8 - 7))  # модуль числа\n",
    "print(np.fabs(4.002 - 5.07))  # только действительные числа"
   ]
  },
  {
   "cell_type": "code",
   "execution_count": 18,
   "metadata": {
    "colab": {
     "base_uri": "https://localhost:8080/"
    },
    "id": "ItbdE_cdLMQn",
    "outputId": "687d79e8-355d-4e1a-ccb3-ed79407903b0"
   },
   "outputs": [
    {
     "name": "stdout",
     "output_type": "stream",
     "text": [
      "-1 0 1\n"
     ]
    }
   ],
   "source": [
    "# функция знака\n",
    "# преобразование любых значений массива в 0,1,-1\n",
    "# x > 0 1; x < 0 -1, x = 0 0\n",
    "print(np.sign(-12), np.sign(0), np.sign(2))"
   ]
  },
  {
   "cell_type": "code",
   "execution_count": 20,
   "metadata": {
    "colab": {
     "base_uri": "https://localhost:8080/"
    },
    "id": "Gk7TfT-KLMQq",
    "outputId": "cedf7a53-7d27-4da7-d0d0-96e9cdf913df"
   },
   "outputs": [
    {
     "name": "stdout",
     "output_type": "stream",
     "text": [
      "7.38905609893065\n",
      "16\n",
      "16.0\n"
     ]
    }
   ],
   "source": [
    "# показательная функция\n",
    "print(np.exp(2))\n",
    "# возведение в степень\n",
    "print(np.power(2, 4))\n",
    "# 2 в степень 4\n",
    "print(np.exp2(4))"
   ]
  },
  {
   "cell_type": "markdown",
   "metadata": {
    "id": "Yf0JYzZjQCLz"
   },
   "source": [
    "Натуральный логарифм — это логарифм, где в качестве основания используется число e (примерно равное 2,71828). Для вычисления натурального логарифма  используется функция numpy.log()."
   ]
  },
  {
   "cell_type": "code",
   "execution_count": 36,
   "metadata": {
    "colab": {
     "base_uri": "https://localhost:8080/"
    },
    "id": "4fuSfvK9LMQs",
    "outputId": "8dc7c75d-6a34-44fc-b29f-884c153a689f"
   },
   "outputs": [
    {
     "name": "stdout",
     "output_type": "stream",
     "text": [
      "2.0\n",
      "3.0\n"
     ]
    }
   ],
   "source": [
    "# ln -  e≈2.718 натуральный логарифм\n",
    "# lg - 10 - логарифм 10 степени\n",
    "print(np.log10(100))\n",
    "# log по основанию 2\n",
    "print(np.log2(8))"
   ]
  },
  {
   "cell_type": "markdown",
   "metadata": {
    "id": "yI3wkwQRVkoK"
   },
   "source": [
    "[тригонометрические функции](https://numpy.org/doc/2.0/reference/generated/numpy.tan.html)"
   ]
  },
  {
   "cell_type": "markdown",
   "metadata": {},
   "source": [
    "функция np.arcsin принимает значения только в диапазоне от -1 до 1. Когда вы передаете ей 5, это приводит к ошибке \"invalid value encountered in arcsin\", потому что 5 выходит за этот диапазон."
   ]
  },
  {
   "cell_type": "code",
   "execution_count": 23,
   "metadata": {
    "colab": {
     "base_uri": "https://localhost:8080/"
    },
    "id": "79CKCLB6LMQu",
    "outputId": "80cb817e-e7b0-4cea-9b27-2e306a171982"
   },
   "outputs": [
    {
     "name": "stdout",
     "output_type": "stream",
     "text": [
      "-0.9589242746631385 0.5403023058681398 -3.380515006246586 1.5707963267948966 0.4636476090008061\n"
     ]
    }
   ],
   "source": [
    "# тригонометрические функции\n",
    "print(np.sin(5), np.cos(1), np.tan(5), np.arcsin(1), np.arctan(0.5))"
   ]
  },
  {
   "cell_type": "code",
   "execution_count": 25,
   "metadata": {
    "colab": {
     "base_uri": "https://localhost:8080/"
    },
    "id": "lKk-7_34LMQv",
    "outputId": "6f7e056e-06fd-4114-e089-3ca8b8a6281e"
   },
   "outputs": [
    {
     "name": "stdout",
     "output_type": "stream",
     "text": [
      "4.58\n",
      "[1 2 3 4]\n"
     ]
    }
   ],
   "source": [
    "print(np.around(4.5845454, 2))  # or np.round(4.5845454, 2)\n",
    "print(np.arange(1, 5))"
   ]
  },
  {
   "cell_type": "code",
   "execution_count": 39,
   "metadata": {
    "colab": {
     "base_uri": "https://localhost:8080/"
    },
    "id": "Im_38o9bLMQw",
    "outputId": "1104d6ae-ff16-4a50-a748-fbd3320636a0"
   },
   "outputs": [
    {
     "name": "stdout",
     "output_type": "stream",
     "text": [
      "Исходные значения: [ 1.5 -2.3  3.7 -4.9  5. ]\n",
      "Преобразованные в int: [ 1 -2  3 -4  5]\n",
      "Округление к нулю: [ 1. -2.  3. -4.  5.]\n",
      "Округление вниз: [ 1. -3.  3. -5.  5.]\n",
      "Округление вверх: [ 2. -2.  4. -4.  5.]\n",
      "Отбрасывание дробной части: [ 1. -2.  3. -4.  5.]\n"
     ]
    }
   ],
   "source": [
    "# Пример массива с дробными числами\n",
    "values = np.array([1.5, -2.3, 3.7, -4.9, 5.0])\n",
    "\n",
    "# Преобразование значений в целые числа (тип int)\n",
    "int_values = np.ndarray.astype(\n",
    "    values, dtype=np.int8\n",
    ")  # Приведение к целому типу (устаревшая функция, лучше использовать np.astype(int))\n",
    "\n",
    "# Округление значений к бaлижайшему целому числу (вниз к нулю)\n",
    "fixed_values = np.fix(\n",
    "    values\n",
    ")  # Возвращает ближайшее целое число, не превышающее значение по модулю\n",
    "\n",
    "# Округление вниз (к меньшему целому числу)\n",
    "floor_values = np.floor(values)  # Округляет до ближайшего меньшего целого числа\n",
    "\n",
    "# Округление вверх (к большему целому числу)\n",
    "ceil_values = np.ceil(values)  # Округляет до ближайшего большего целого числа\n",
    "\n",
    "# Уточнение на случай, если вы хотите вызвать ceil как функцию\n",
    "# ceil_function = np.ceil  # Сохраняет ссылку на функцию ceil\n",
    "\n",
    "# Отбрасывание дробной части (округление до нуля)\n",
    "trunc_values = np.trunc(values)  # Удаляет дробную часть числа, оставляя только целую\n",
    "\n",
    "# Вывод результатов\n",
    "print(\"Исходные значения:\", values)\n",
    "print(\"Преобразованные в int:\", int_values)\n",
    "print(\"Округление к нулю:\", fixed_values)\n",
    "print(\"Округление вниз:\", floor_values)\n",
    "print(\"Округление вверх:\", ceil_values)\n",
    "print(\"Отбрасывание дробной части:\", trunc_values)"
   ]
  },
  {
   "cell_type": "markdown",
   "metadata": {
    "id": "xwwR9GuTAVHt"
   },
   "source": [
    "# scipy"
   ]
  },
  {
   "cell_type": "code",
   "execution_count": 40,
   "metadata": {
    "colab": {
     "base_uri": "https://localhost:8080/"
    },
    "id": "TDnJUrQ4K4q4",
    "outputId": "f2b03e53-7dcc-4b40-c915-f05e690a3d63"
   },
   "outputs": [
    {
     "name": "stdout",
     "output_type": "stream",
     "text": [
      "Факториал 5: 120.0\n",
      "Комбинации из 10 по 1: 10.0\n",
      "Комбинации из 10 по [1, 2, 3]: [ 10.  45. 120.]\n",
      "Перестановки из 5 по 4: 120.0\n",
      "Перестановки для [5,6,7] и [4,3,2]: [120. 120.  42.]\n"
     ]
    }
   ],
   "source": [
    "# 19\n",
    "# Факториал числа\n",
    "# Факториал числа n (n!) - произведение всех положительных целых чисел от 1 до n.\n",
    "factorial_result = sc.factorial(5)  # 5! = 5 * 4 * 3 * 2 * 1 = 120\n",
    "print(\"Факториал 5:\", factorial_result)\n",
    "\n",
    "# Комбинации\n",
    "# Функция sc.comb(n, k) возвращает количество способов выбрать\n",
    "# k элементов из n без учета порядка.\n",
    "# Функция sc.binom(n, k) также возвращает количество комбинаций и является синонимом sc.comb(n, k).\n",
    "comb_result = sc.comb(10, 1)  # C(10, 1) = 10\n",
    "print(\"Комбинации из 10 по 1:\", comb_result)\n",
    "\n",
    "# Пример с массивами\n",
    "# Здесь мы выбираем различные количества элементов (1, 2 и 3) из одного и того же n = 10.\n",
    "comb_array_result = sc.comb([10], [1, 2, 3])  # Возвращает массив [10, 45, 120]\n",
    "print(\"Комбинации из 10 по [1, 2, 3]:\", comb_array_result)\n",
    "\n",
    "# Перестановки\n",
    "# Функция sc.perm(n, k) возвращает количество способов расположить k элементов из n.\n",
    "perm_result = sc.perm(5, 4)  # P(5, 4) = 5! / (5-4)! = 5 * 4 * 3 * 2 = 120\n",
    "print(\"Перестановки из 5 по 4:\", perm_result)\n",
    "\n",
    "# Пример с массивами\n",
    "# Здесь мы выбираем перестановки для двух наборов: [5, 6, 7] и [4, 3, 2].\n",
    "perm_array_result = sc.perm([5, 6, 7], [4, 3, 2])\n",
    "# Возвращает массив с количеством перестановок для каждого соответствующего случая.\n",
    "print(\"Перестановки для [5,6,7] и [4,3,2]:\", perm_array_result)"
   ]
  },
  {
   "cell_type": "markdown",
   "metadata": {
    "id": "DGKNMC_kBcUS"
   },
   "source": [
    "▎Объяснения функций:\n",
    "\n",
    "• sc.factorial(n): Вычисляет факториал числа n. Например, sc.factorial(5) возвращает 120, поскольку 5! = 120.\n",
    "\n",
    "• sc.comb(n, k): Вычисляет количество сочетаний (комбинаций) из n по k, то есть количество способов выбрать k элементов из n без учета порядка. Например, sc.comb(10, 1) возвращает 10, так как можно выбрать один элемент из десяти.\n",
    "\n",
    "• sc.binom(n, k): Это синоним функции sc.comb(n, k), которая также вычисляет количество сочетаний.\n",
    "\n",
    "• sc.perm(n, k): Вычисляет количество перестановок из n по k, то есть количество способов расположить k элементов из n. Например, sc.perm(5, 4) возвращает 120, так как это количество способов разместить четыре элемента из пяти.\n",
    "\n",
    "Эти функции полезны для комбинаторных расчетов в различных областях математики и статистики"
   ]
  },
  {
   "cell_type": "code",
   "execution_count": 28,
   "metadata": {
    "colab": {
     "base_uri": "https://localhost:8080/"
    },
    "id": "gXmzEGNwCBeh",
    "outputId": "80970d56-5085-468c-f216-21444752f44e"
   },
   "outputs": [
    {
     "name": "stdout",
     "output_type": "stream",
     "text": [
      "Гамма 5: 24.0\n"
     ]
    }
   ],
   "source": [
    "# 20\n",
    "# Функция гамма\n",
    "# sc.gamma(x) вычисляет значение функции гамма для заданного x.\n",
    "# Функция гамма является обобщением факториала для вещественных и комплексных чисел.\n",
    "gamma_result = sc.gamma(5)  # gamma(5) = 4! = 24\n",
    "print(\"Гамма 5:\", gamma_result)\n",
    "\n",
    "# Оптимизация функции\n",
    "# sc.optimize.minimize() используется для нахождения минимума заданной функции.\n",
    "# Она принимает несколько аргументов, включая функцию, начальное значение и метод оптимизации."
   ]
  },
  {
   "cell_type": "code",
   "execution_count": 31,
   "metadata": {},
   "outputs": [
    {
     "name": "stdout",
     "output_type": "stream",
     "text": [
      "Гамма 5: 24.0\n",
      "Минимум функции достигается при x = [0.18350341]\n"
     ]
    }
   ],
   "source": [
    "# Функция гамма\n",
    "# Определяем функцию, которую мы хотим минимизировать.\n",
    "# В данном случае мы минимизируем функцию y = -f(x), где f(x) = x^3 - 3x^2 + x + 1\n",
    "gamma_result: float = sc.gamma(5)  # gamma(5) = 4! = 24\n",
    "print(\"Гамма 5:\", gamma_result)\n",
    "\n",
    "# Оптимизация функции\n",
    "# Определяем функцию, которую мы хотим минимизировать.\n",
    "fun: int = lambda x_: -(x_**3 - 3 * x_**2 + x_ + 1)\n",
    "\n",
    "# Начальное значение для поиска минимума (в данном случае x = 0)\n",
    "initial_guess: int = 0\n",
    "\n",
    "# Используем метод minimize для нахождения минимума функции fun\n",
    "res: float = optimize.minimize(fun, initial_guess)\n",
    "\n",
    "# res.x содержит значение x, при котором функция достигает минимума\n",
    "print(\"Минимум функции достигается при x =\", res.x)"
   ]
  },
  {
   "cell_type": "markdown",
   "metadata": {
    "id": "uPM0x3zNK4r6"
   },
   "source": [
    "метод Монте-Карло\n",
    "\n",
    "Метод статистических испытаний - генерация случайный чисел с требуемым законом распределения, моделирование данных"
   ]
  },
  {
   "cell_type": "code",
   "execution_count": 43,
   "metadata": {
    "id": "rTX6MFVKK4sg",
    "outputId": "255c0e00-7e81-4b2f-e013-85453d0d8a53"
   },
   "outputs": [
    {
     "data": {
      "text/plain": [
       "0.5"
      ]
     },
     "execution_count": 43,
     "metadata": {},
     "output_type": "execute_result"
    }
   ],
   "source": [
    "# моделирование эксперимента, данных - Монте-Карло\n",
    "print(np.random.binomial(1, 0.5, size=10).mean())"
   ]
  },
  {
   "cell_type": "markdown",
   "metadata": {
    "id": "yEWMkkEcMgDD"
   },
   "source": [
    "# Задачи"
   ]
  },
  {
   "cell_type": "markdown",
   "metadata": {
    "id": "3rCBuMZ8MQqC"
   },
   "source": [
    "    Сложение вероятностей используется, когда мы хотим узнать вероятность того, что произойдет одно из двух несовместных событий (например, выпадет либо 1, либо 2 на кубике).\n",
    "    Умножение вероятностей используется для вычисления вероятности одновременного наступления двух независимых событий."
   ]
  },
  {
   "cell_type": "markdown",
   "metadata": {
    "id": "kZWLBuqlMlGT"
   },
   "source": [
    "## 1"
   ]
  },
  {
   "cell_type": "markdown",
   "metadata": {
    "id": "sCak9ImVK4si"
   },
   "source": [
    "Предположим, у нас есть мешок с 5 синими шарами, 3 зелеными шарами и 2 красными шарами. Мы случайным образом вытаскиваем один шар из мешка. Какова вероятность того, что выбранный шар будет синим?"
   ]
  },
  {
   "cell_type": "code",
   "execution_count": 44,
   "metadata": {
    "colab": {
     "base_uri": "https://localhost:8080/"
    },
    "id": "MV1kC1siMERl",
    "outputId": "08f48560-fb60-4d77-cfb7-a0a5588a779b"
   },
   "outputs": [
    {
     "name": "stdout",
     "output_type": "stream",
     "text": [
      "Вероятность выбрать синий шар: 0.5\n"
     ]
    }
   ],
   "source": [
    "# Определяем количество шаров\n",
    "blue_balls: int = 5\n",
    "green_balls: int = 3\n",
    "red_balls: int = 2\n",
    "\n",
    "# Общее количество шаров\n",
    "total_balls: int = blue_balls + green_balls + red_balls\n",
    "\n",
    "# Вероятность выбрать синий шар\n",
    "probability_blue: float = blue_balls / total_balls\n",
    "\n",
    "# Вывод результата\n",
    "print(\"Вероятность выбрать синий шар:\", probability_blue)"
   ]
  },
  {
   "cell_type": "markdown",
   "metadata": {
    "id": "CqhIHUQHMnz4"
   },
   "source": [
    "## 2"
   ]
  },
  {
   "cell_type": "markdown",
   "metadata": {
    "id": "NCpz5Jv3K4ss"
   },
   "source": [
    "Задача на теорему сложения вероятностей\n",
    "\n",
    "Задача: В корзине 4 яблока и 6 апельсинов. Какова вероятность того, что случайно выбранный фрукт будет либо яблоком, либо апельсином?"
   ]
  },
  {
   "cell_type": "code",
   "execution_count": 45,
   "metadata": {
    "colab": {
     "base_uri": "https://localhost:8080/"
    },
    "id": "WEpoxEKzNRGy",
    "outputId": "f6835188-570c-483a-e89f-13cabfcf787a"
   },
   "outputs": [
    {
     "name": "stdout",
     "output_type": "stream",
     "text": [
      "Вероятность, что случайно выбранный фрукт яблоко 0.4\n",
      "Вероятность, что случайно выбранный фрукт апельсин 0.6\n"
     ]
    }
   ],
   "source": [
    "apples: int = 4\n",
    "oranges: int = 6\n",
    "total_fruits: int = apples + oranges\n",
    "probability_apples: float = apples / total_fruits\n",
    "probability_oranges: float = oranges / total_fruits\n",
    "print(\"Вероятность, что случайно выбранный фрукт яблоко\", probability_apples)\n",
    "print(\"Вероятность, что случайно выбранный фрукт апельсин\", probability_oranges)"
   ]
  },
  {
   "cell_type": "markdown",
   "metadata": {
    "id": "T0aGxIaXMprn"
   },
   "source": [
    "## 3"
   ]
  },
  {
   "cell_type": "markdown",
   "metadata": {
    "id": "3eaAf6zRK4s1"
   },
   "source": [
    " задачи на зависимые события\n",
    "\n",
    "Задача: В коробке находятся 5 синих и 4 красных шарика. Мы случайно вытаскиваем два шарика один за другим без возврата. Какова вероятность того, что первый шар будет синим, а второй — красным?"
   ]
  },
  {
   "cell_type": "code",
   "execution_count": 46,
   "metadata": {
    "colab": {
     "base_uri": "https://localhost:8080/"
    },
    "id": "mpy8RH52OKys",
    "outputId": "b83b2618-84ce-42dd-aea2-cc9acad125f7"
   },
   "outputs": [
    {
     "name": "stdout",
     "output_type": "stream",
     "text": [
      "0.28\n"
     ]
    }
   ],
   "source": [
    "# Определяем количество шаров\n",
    "blue_balls_: int = 5\n",
    "red_balls_: int = 4\n",
    "total: int = blue_balls_ + red_balls_\n",
    "probability_first_blue: float = blue_balls_ / total\n",
    "probability_second_red: float = red_balls_ / (total - 1)\n",
    "probability_first_blue_second_red: float = (\n",
    "    probability_first_blue * probability_second_red\n",
    ")\n",
    "print(round(probability_first_blue_second_red, 2))"
   ]
  },
  {
   "cell_type": "markdown",
   "metadata": {
    "id": "x0gttKBmMu4q"
   },
   "source": [
    "## 4"
   ]
  },
  {
   "cell_type": "markdown",
   "metadata": {
    "id": "z-mPa-RrQ0KG"
   },
   "source": [
    "*Формула полной вероятности*\n",
    "\n",
    "Формула полной вероятности применяется, когда событие может произойти через несколько взаимно исключающих событий (гипотез), и нам нужно найти вероятность этого события с учётом всех возможных путей его наступления."
   ]
  },
  {
   "cell_type": "markdown",
   "metadata": {
    "id": "Y5w1wZ30K4s2"
   },
   "source": [
    "Задача: Предположим, что у нас есть три коробки:\n",
    "\n",
    "    В первой коробке 3 белых и 2 черных шара.\n",
    "    Во второй коробке 1 белый и 1 черный шар.\n",
    "    В третьей коробке 4 белых и 3 черных шара.\n",
    "\n",
    "Случайным образом выбирается одна коробка, и из неё случайно вытаскивают один шар. Какова вероятность того, что этот шар будет белым?"
   ]
  },
  {
   "cell_type": "markdown",
   "metadata": {
    "id": "WBo-o8fMEecc"
   },
   "source": [
    "Будем считать события B1,B2,B3 выбором урны с соотвествующим номером, а событие A — выбором белого шара. По условию задачи все события выбора урны равновероятны, значит"
   ]
  },
  {
   "cell_type": "markdown",
   "metadata": {
    "id": "EHuyClvKEkMd"
   },
   "source": [
    "P(B1) = P(B2) = P(B3) = 1/3"
   ]
  },
  {
   "cell_type": "code",
   "execution_count": 47,
   "metadata": {
    "colab": {
     "base_uri": "https://localhost:8080/"
    },
    "id": "yUnF5q8YDCuE",
    "outputId": "b798a3fc-70da-4c3f-b281-b7b498a0eec5"
   },
   "outputs": [
    {
     "name": "stdout",
     "output_type": "stream",
     "text": [
      "Вероятность того, что этот шар будет белым: 0.56\n"
     ]
    }
   ],
   "source": [
    "# Определяем количество шаров\n",
    "first_basket_white: int = 3\n",
    "second_basket_white: int = 1\n",
    "third_basket_white: int = 4\n",
    "\n",
    "first_basket_black: int = 2\n",
    "second_basket_black: int = 1\n",
    "third_basket_black: int = 3\n",
    "\n",
    "# все события выбора урны равновероятны, значит:\n",
    "P_B: float = 1 / 3\n",
    "\n",
    "# Теперь найдём вероятность события A при выборе каждой урны:\n",
    "P_A1: float = first_basket_white / (first_basket_white + first_basket_black)\n",
    "P_A2: float = second_basket_white / (second_basket_white + second_basket_black)\n",
    "P_A3: float = third_basket_white / (third_basket_white + third_basket_black)\n",
    "\n",
    "# В результате получаем P(A)\n",
    "P_A: float = P_B * P_A1 + P_B * P_A2 + P_B * P_A3\n",
    "\n",
    "print(\"Вероятность того, что этот шар будет белым:\", round(P_A, 2))"
   ]
  },
  {
   "cell_type": "markdown",
   "metadata": {
    "id": "qLeNTbIXMxn9"
   },
   "source": [
    "## 5"
   ]
  },
  {
   "cell_type": "markdown",
   "metadata": {
    "id": "hprUqFqyK4s3"
   },
   "source": [
    "Формула Байеса\n",
    "\n",
    "Формула Байеса позволяет находить условную вероятность гипотезы, исходя из известной вероятности наступившего события. Она позволяет \"обновлять\" вероятность гипотезы на основании новой информации.\n",
    "\n",
    "Задача: Предположим, что есть три автомастерские:\n",
    "\n",
    "    В первой ремонтируют 40% автомобилей, во второй — 35%, в третьей — 25%.\n",
    "    Вероятность того, что автомобиль будет отремонтирован правильно, составляет 90% для первой мастерской, 80% для второй и 75% для третьей.\n",
    "\n",
    "Какова вероятность того, что автомобиль был отремонтирован в первой мастерской, если известно, что ремонт был выполнен правильно?"
   ]
  },
  {
   "cell_type": "code",
   "execution_count": 48,
   "metadata": {
    "colab": {
     "base_uri": "https://localhost:8080/"
    },
    "id": "J4BGGMVZJV1g",
    "outputId": "458eb452-fe00-4db1-b9be-e6839a8bf90f"
   },
   "outputs": [
    {
     "name": "stdout",
     "output_type": "stream",
     "text": [
      "Вероятность того, что автомобиль был отремонтирован в первой мастерской 0.44\n"
     ]
    }
   ],
   "source": [
    "P_H1: float = 0.4\n",
    "P_H2: float = 0.35\n",
    "P_H3: float = 0.25\n",
    "\n",
    "P_A_H1 = 0.9\n",
    "P_A_H2 = 0.8\n",
    "P_A_H3 = 0.75\n",
    "\n",
    "# найдем полную вероятность события А - ремент выполнен\n",
    "P_A: float = (P_H1 * P_A_H1) + (P_H2 * P_A_H2) + (P_H3 * P_A_H3)\n",
    "# найем условную вероятность H1, если событие А произошло\n",
    "P_H1_A: float = P_H1 * P_A_H1 / P_A\n",
    "print(\n",
    "    f\"Вероятность того, что автомобиль был отремонтирован в первой мастерской {round(P_H1_A,2)}\"\n",
    ")"
   ]
  }
 ],
 "metadata": {
  "colab": {
   "provenance": []
  },
  "kernelspec": {
   "display_name": "base",
   "language": "python",
   "name": "python3"
  },
  "language_info": {
   "codemirror_mode": {
    "name": "ipython",
    "version": 3
   },
   "file_extension": ".py",
   "mimetype": "text/x-python",
   "name": "python",
   "nbconvert_exporter": "python",
   "pygments_lexer": "ipython3",
   "version": "3.11.4"
  }
 },
 "nbformat": 4,
 "nbformat_minor": 0
}
