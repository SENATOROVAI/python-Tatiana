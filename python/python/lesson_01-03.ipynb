{
 "cells": [
  {
   "cell_type": "code",
   "execution_count": 1,
   "metadata": {},
   "outputs": [
    {
     "data": {
      "text/plain": [
       "'Module on python. Introduction.'"
      ]
     },
     "execution_count": 1,
     "metadata": {},
     "output_type": "execute_result"
    }
   ],
   "source": [
    "\"Module on python. Introduction.\""
   ]
  },
  {
   "cell_type": "code",
   "execution_count": null,
   "metadata": {},
   "outputs": [],
   "source": [
    "import keyword"
   ]
  },
  {
   "cell_type": "markdown",
   "metadata": {},
   "source": [
    "Fork это операция клонирования чужого репозитория в свой личный аккаунт GitHub, для дальнейшего pull requestа.\n",
    "\n",
    "Pull request - это процедура переноса изменений из личного репозитория в форкнутый репозиторий, возможен только при наличии изменений."
   ]
  },
  {
   "cell_type": "markdown",
   "metadata": {},
   "source": [
    "Активация виртуального окружения: python -m venv venv"
   ]
  },
  {
   "cell_type": "markdown",
   "metadata": {},
   "source": [
    "Linter - это инструмент анализа и поиска ошибок согласно PEP 8.\n",
    "Flake8 - это linter .\n",
    "Black - это тнструмент автоформатирования кода согласна linter/\n"
   ]
  },
  {
   "cell_type": "code",
   "execution_count": 2,
   "metadata": {},
   "outputs": [
    {
     "name": "stdout",
     "output_type": "stream",
     "text": [
      "yes\n"
     ]
    }
   ],
   "source": [
    "var_w = int(input())\n",
    "\n",
    "if var_w % 2 == 0 and var_w > 2:\n",
    "    print(\"yes\")\n",
    "else:\n",
    "    print(\"no\")"
   ]
  },
  {
   "cell_type": "markdown",
   "metadata": {},
   "source": [
    "# lesson 2"
   ]
  },
  {
   "cell_type": "markdown",
   "metadata": {},
   "source": [
    "1. Enter Senatorov team. Choose a person to fork.\n",
    "2. Choose a peson's repository for a fork or ask for recommendation (@Yugay_Irina help me to choose repository for review) \n",
    "3. Fork rep. and create a dev branch: Settings-> default brach-> switch to another branch - > dev\n",
    "4. Ask for permission @senatorov to work as a team in Git chat\n",
    "5. Clone: VS code-> source control->...-> clone -> choose colegue's repository\n",
    "6.Modification: \n",
    "7. Commit & Push\n",
    "8. Contact @Irina in Code review to give a review and add a link on the commit (copy from GITHUB)"
   ]
  },
  {
   "cell_type": "markdown",
   "metadata": {},
   "source": [
    "Getting started:\n",
    "* 1. Start-> Open (choose a way to the folder). TO COONECT YOUR VC TO THE FOLDERS ON THE DESKTOP. IT WILL APPEAR UNDER EXPLORER"
   ]
  },
  {
   "cell_type": "markdown",
   "metadata": {},
   "source": [
    "EXPLORER  -  to see your folders and files\n",
    "MAGNIFUING GLASS - to search and find replace text in files across your whole workspace\n",
    "SOURCE CONTROL - to track changes in code with Git and GitHub.\n",
    "RUN AND DEBUG - to executecode and debug it using breakpoints.\n",
    "THE EXTENSION MARKETPLACE -  to add additional features to our code editor.\n",
    "ACCOUNT ICON\n",
    "SETTINGS"
   ]
  },
  {
   "cell_type": "markdown",
   "metadata": {},
   "source": [
    "1. CREATE A NEW FILE:  File-> New File\n",
    "2. SAVE FILE: cmnd+S. \n",
    "! We need to save each change. A DOT on the file name reminds about it. \n",
    "3. TO SAVE CHANGE: ctrl+S or File-> AutoSave"
   ]
  },
  {
   "cell_type": "markdown",
   "metadata": {},
   "source": [
    "1. TO EXECUTE THE CODE: hit F5 \n",
    "2. CREATE A NEW FILE: cmnd+n"
   ]
  },
  {
   "cell_type": "markdown",
   "metadata": {},
   "source": [
    "Get review:\n",
    "Algorithm:\n",
    "\n",
    "1. Clone on local PC\n",
    "2. Answer the ?s\n",
    "1. Source control"
   ]
  },
  {
   "cell_type": "markdown",
   "metadata": {},
   "source": [
    "Work with terminal:\n",
    "1. ctl+alt+T\n",
    "2. Terminal -> New Terminal"
   ]
  },
  {
   "cell_type": "markdown",
   "metadata": {},
   "source": [
    "Fork/Clone of repository:\n",
    "1. Terminal: git clone link"
   ]
  },
  {
   "cell_type": "markdown",
   "metadata": {},
   "source": [
    "# lesson 3"
   ]
  },
  {
   "cell_type": "code",
   "execution_count": null,
   "metadata": {},
   "outputs": [],
   "source": [
    "dir(keyword)  # атибуты объекта"
   ]
  },
  {
   "cell_type": "code",
   "execution_count": null,
   "metadata": {},
   "outputs": [],
   "source": [
    "type(keyword)"
   ]
  },
  {
   "cell_type": "code",
   "execution_count": null,
   "metadata": {},
   "outputs": [],
   "source": [
    "keyword.kwlist"
   ]
  },
  {
   "cell_type": "code",
   "execution_count": null,
   "metadata": {},
   "outputs": [],
   "source": [
    "git config --global user.name \"kypena\"\n",
    "\n",
    "git config --global user.email \"ptl2022me@gmail.com\""
   ]
  }
 ],
 "metadata": {
  "kernelspec": {
   "display_name": "Python 3.8.0 ('venv': venv)",
   "language": "python",
   "name": "python3"
  },
  "language_info": {
   "codemirror_mode": {
    "name": "ipython",
    "version": 3
   },
   "file_extension": ".py",
   "mimetype": "text/x-python",
   "name": "python",
   "nbconvert_exporter": "python",
   "pygments_lexer": "ipython3",
   "version": "3.11.4"
  },
  "orig_nbformat": 4,
  "vscode": {
   "interpreter": {
    "hash": "7debfb7ff2a65a67fe4c33e05f6711e03aa7e44d9c4bd9c2a5f14dff9cc136af"
   }
  }
 },
 "nbformat": 4,
 "nbformat_minor": 2
}
